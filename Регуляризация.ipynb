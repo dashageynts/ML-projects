{
 "cells": [
  {
   "cell_type": "markdown",
   "id": "43defc74",
   "metadata": {
    "id": "43defc74"
   },
   "source": [
    "\\begin{align}J(w) = \\frac 1n \\sum_{i=1}^{n} \\left( y_i - wx_i \\right)^2 \\rightarrow \\min\\end{align}\n",
    "\n",
    "Эквивалентная задача\n",
    "\\begin{align}L(w) = \\sum_{i=1}^{n} \\left( y_i - wx_i \\right)^2\\end{align}\n",
    "\n",
    "L2-регуляризация\n",
    "\\begin{align}L(w) = \\sum_{i=1}^{n} \\left( y_i - wx_i \\right)^2 + \\lambda\\sum_{j=0}^{d}w_j^2\\end{align}\n",
    "\\begin{align}L(w) = {\\left\\lVert y - Xw \\right\\rVert}^2 + \\lambda{\\left\\lVert w \\right\\rVert}_2^2\\end{align}\n",
    "\n",
    "Градиент:\n",
    "\n",
    "\\begin{align}\\nabla L_w = -2X^T(y-Xw) + 2\\lambda w\\end{align}\n",
    "\n",
    "Приравниваем градиент нулю:\n",
    "\\begin{align}\n",
    "   0 &= -2X^T(y-Xw) + 2\\lambda w \\\\\n",
    "   &= X^T(y-Xw) - \\lambda w    \\\\\n",
    "   &= X^Ty - X^TXw - \\lambda w \\\\\n",
    "   &= X^Ty - (X^TX + \\lambda I_d) w\n",
    "   \\end{align}\n",
    "\n",
    "Выражаем $w$:\n",
    "\n",
    "\\begin{align}\n",
    "   (X^TX + \\lambda I_d) w &= X^Ty    \\\\\n",
    "   w &= (X^TX + \\lambda I_d)^{-1}X^Ty\n",
    "   \\end{align}\n",
    "\n",
    "L1-регуляризация\n",
    "\\begin{align}L(w) = \\sum_{i=1}^{n} \\left( y^i - wx^i \\right)^2 + \\lambda\\sum_{j=0}^{d}\\left|w_j\\right|\\end{align}\n",
    "\n",
    "\\begin{align}L(w) = {\\left\\lVert y - Xw \\right\\rVert}^2 + \\lambda{\\left\\lVert w \\right\\rVert}_1\\end{align}\n",
    "\n",
    "Градиент:\n",
    "\n",
    "\\begin{align}\\nabla L_w = -2X^T(y-Xw) + \\lambda sign (w)\\end{align}"
   ]
  },
  {
   "cell_type": "code",
   "execution_count": 1,
   "id": "e7c5bc44",
   "metadata": {
    "id": "e7c5bc44"
   },
   "outputs": [
    {
     "data": {
      "text/html": [
       "<div>\n",
       "<style scoped>\n",
       "    .dataframe tbody tr th:only-of-type {\n",
       "        vertical-align: middle;\n",
       "    }\n",
       "\n",
       "    .dataframe tbody tr th {\n",
       "        vertical-align: top;\n",
       "    }\n",
       "\n",
       "    .dataframe thead th {\n",
       "        text-align: right;\n",
       "    }\n",
       "</style>\n",
       "<table border=\"1\" class=\"dataframe\">\n",
       "  <thead>\n",
       "    <tr style=\"text-align: right;\">\n",
       "      <th></th>\n",
       "      <th>Column1</th>\n",
       "      <th>Column2</th>\n",
       "      <th>Column3</th>\n",
       "      <th>Column4</th>\n",
       "      <th>Column5</th>\n",
       "      <th>Column6</th>\n",
       "      <th>Column7</th>\n",
       "      <th>Column8</th>\n",
       "      <th>Column9</th>\n",
       "      <th>Column10</th>\n",
       "      <th>...</th>\n",
       "      <th>Column96</th>\n",
       "      <th>Column97</th>\n",
       "      <th>Column98</th>\n",
       "      <th>Column99</th>\n",
       "      <th>Column100</th>\n",
       "      <th>Column101</th>\n",
       "      <th>Column102</th>\n",
       "      <th>Column103</th>\n",
       "      <th>Column104</th>\n",
       "      <th>Y</th>\n",
       "    </tr>\n",
       "  </thead>\n",
       "  <tbody>\n",
       "    <tr>\n",
       "      <th>0</th>\n",
       "      <td>0.000000</td>\n",
       "      <td>0.18</td>\n",
       "      <td>0.067815</td>\n",
       "      <td>0.0</td>\n",
       "      <td>0.314815</td>\n",
       "      <td>0.577505</td>\n",
       "      <td>0.641607</td>\n",
       "      <td>0.269203</td>\n",
       "      <td>0.000000</td>\n",
       "      <td>0.208015</td>\n",
       "      <td>...</td>\n",
       "      <td>0.059749</td>\n",
       "      <td>0.208015</td>\n",
       "      <td>0.018655</td>\n",
       "      <td>0.082503</td>\n",
       "      <td>0.287234</td>\n",
       "      <td>0.025759</td>\n",
       "      <td>1.000000</td>\n",
       "      <td>0.089680</td>\n",
       "      <td>0.008042</td>\n",
       "      <td>24.0</td>\n",
       "    </tr>\n",
       "    <tr>\n",
       "      <th>1</th>\n",
       "      <td>0.000236</td>\n",
       "      <td>0.00</td>\n",
       "      <td>0.242302</td>\n",
       "      <td>0.0</td>\n",
       "      <td>0.172840</td>\n",
       "      <td>0.547998</td>\n",
       "      <td>0.782698</td>\n",
       "      <td>0.348962</td>\n",
       "      <td>0.043478</td>\n",
       "      <td>0.104962</td>\n",
       "      <td>...</td>\n",
       "      <td>0.058064</td>\n",
       "      <td>0.104962</td>\n",
       "      <td>0.021462</td>\n",
       "      <td>0.306021</td>\n",
       "      <td>0.553191</td>\n",
       "      <td>0.113111</td>\n",
       "      <td>1.000000</td>\n",
       "      <td>0.204470</td>\n",
       "      <td>0.041808</td>\n",
       "      <td>21.6</td>\n",
       "    </tr>\n",
       "    <tr>\n",
       "      <th>2</th>\n",
       "      <td>0.000236</td>\n",
       "      <td>0.00</td>\n",
       "      <td>0.242302</td>\n",
       "      <td>0.0</td>\n",
       "      <td>0.172840</td>\n",
       "      <td>0.694386</td>\n",
       "      <td>0.599382</td>\n",
       "      <td>0.348962</td>\n",
       "      <td>0.043478</td>\n",
       "      <td>0.104962</td>\n",
       "      <td>...</td>\n",
       "      <td>0.058064</td>\n",
       "      <td>0.103885</td>\n",
       "      <td>0.006661</td>\n",
       "      <td>0.306021</td>\n",
       "      <td>0.547514</td>\n",
       "      <td>0.035109</td>\n",
       "      <td>0.979580</td>\n",
       "      <td>0.062814</td>\n",
       "      <td>0.004028</td>\n",
       "      <td>34.7</td>\n",
       "    </tr>\n",
       "    <tr>\n",
       "      <th>3</th>\n",
       "      <td>0.000293</td>\n",
       "      <td>0.00</td>\n",
       "      <td>0.063050</td>\n",
       "      <td>0.0</td>\n",
       "      <td>0.150206</td>\n",
       "      <td>0.658555</td>\n",
       "      <td>0.441813</td>\n",
       "      <td>0.448545</td>\n",
       "      <td>0.086957</td>\n",
       "      <td>0.066794</td>\n",
       "      <td>...</td>\n",
       "      <td>0.043345</td>\n",
       "      <td>0.066412</td>\n",
       "      <td>0.002230</td>\n",
       "      <td>0.421118</td>\n",
       "      <td>0.645222</td>\n",
       "      <td>0.021667</td>\n",
       "      <td>0.988585</td>\n",
       "      <td>0.033197</td>\n",
       "      <td>0.001115</td>\n",
       "      <td>33.4</td>\n",
       "    </tr>\n",
       "    <tr>\n",
       "      <th>4</th>\n",
       "      <td>0.000705</td>\n",
       "      <td>0.00</td>\n",
       "      <td>0.063050</td>\n",
       "      <td>0.0</td>\n",
       "      <td>0.150206</td>\n",
       "      <td>0.687105</td>\n",
       "      <td>0.528321</td>\n",
       "      <td>0.448545</td>\n",
       "      <td>0.086957</td>\n",
       "      <td>0.066794</td>\n",
       "      <td>...</td>\n",
       "      <td>0.043345</td>\n",
       "      <td>0.066794</td>\n",
       "      <td>0.006635</td>\n",
       "      <td>0.421118</td>\n",
       "      <td>0.648936</td>\n",
       "      <td>0.064464</td>\n",
       "      <td>1.000000</td>\n",
       "      <td>0.099338</td>\n",
       "      <td>0.009868</td>\n",
       "      <td>36.2</td>\n",
       "    </tr>\n",
       "  </tbody>\n",
       "</table>\n",
       "<p>5 rows × 105 columns</p>\n",
       "</div>"
      ],
      "text/plain": [
       "    Column1  Column2   Column3  Column4   Column5   Column6   Column7  \\\n",
       "0  0.000000     0.18  0.067815      0.0  0.314815  0.577505  0.641607   \n",
       "1  0.000236     0.00  0.242302      0.0  0.172840  0.547998  0.782698   \n",
       "2  0.000236     0.00  0.242302      0.0  0.172840  0.694386  0.599382   \n",
       "3  0.000293     0.00  0.063050      0.0  0.150206  0.658555  0.441813   \n",
       "4  0.000705     0.00  0.063050      0.0  0.150206  0.687105  0.528321   \n",
       "\n",
       "    Column8   Column9  Column10  ...  Column96  Column97  Column98  Column99  \\\n",
       "0  0.269203  0.000000  0.208015  ...  0.059749  0.208015  0.018655  0.082503   \n",
       "1  0.348962  0.043478  0.104962  ...  0.058064  0.104962  0.021462  0.306021   \n",
       "2  0.348962  0.043478  0.104962  ...  0.058064  0.103885  0.006661  0.306021   \n",
       "3  0.448545  0.086957  0.066794  ...  0.043345  0.066412  0.002230  0.421118   \n",
       "4  0.448545  0.086957  0.066794  ...  0.043345  0.066794  0.006635  0.421118   \n",
       "\n",
       "   Column100  Column101  Column102  Column103  Column104     Y  \n",
       "0   0.287234   0.025759   1.000000   0.089680   0.008042  24.0  \n",
       "1   0.553191   0.113111   1.000000   0.204470   0.041808  21.6  \n",
       "2   0.547514   0.035109   0.979580   0.062814   0.004028  34.7  \n",
       "3   0.645222   0.021667   0.988585   0.033197   0.001115  33.4  \n",
       "4   0.648936   0.064464   1.000000   0.099338   0.009868  36.2  \n",
       "\n",
       "[5 rows x 105 columns]"
      ]
     },
     "execution_count": 1,
     "metadata": {},
     "output_type": "execute_result"
    }
   ],
   "source": [
    "import numpy as np\n",
    "import pandas as pd\n",
    "import matplotlib.pyplot as plt\n",
    "import seaborn as sns\n",
    "data = pd.read_csv(\"housing.csv\")\n",
    "data.head()"
   ]
  },
  {
   "cell_type": "code",
   "execution_count": 2,
   "id": "4c2b8a42",
   "metadata": {},
   "outputs": [
    {
     "data": {
      "text/plain": [
       "(506, 105)"
      ]
     },
     "execution_count": 2,
     "metadata": {},
     "output_type": "execute_result"
    }
   ],
   "source": [
    "data.shape"
   ]
  },
  {
   "cell_type": "code",
   "execution_count": 3,
   "id": "01136445",
   "metadata": {
    "id": "01136445"
   },
   "outputs": [],
   "source": [
    "class MultipleRegression(object):\n",
    "    def __init__(self):\n",
    "        self.a = np.zeros(1)\n",
    "        self.intercept = True\n",
    "    def predict(self, x):\n",
    "        return x @ self.a\n",
    "    def MSE(self, x, Y):\n",
    "        return (((Y.to_numpy() - self.predict(x).to_numpy()).T@(Y.to_numpy() - self.predict(x).to_numpy()))/x.shape[0])[0][0]\n",
    "    def MAE(self, x, Y):\n",
    "        return abs((Y.to_numpy() - self.predict(x).to_numpy())).mean()\n",
    "    def MAPE(self, x, Y):\n",
    "        return abs((Y.to_numpy() - self.predict(x).to_numpy())/Y).mean().to_real()\n",
    "    def coefs(self):\n",
    "        return self.a\n",
    "    def fit(self, x, Y, alpha = 0.001, epsylon = 0.01, max_steps = 5000, intercept = True):\n",
    "        self.intercept = intercept\n",
    "        self.x = x.copy()\n",
    "        self.Y = Y.copy()\n",
    "        if intercept:\n",
    "            self.x.insert(0, \"intercept\", np.ones((self.x.shape[0],1)), allow_duplicates=True)\n",
    "        m = len(self.x)\n",
    "        self.a = np.zeros(self.x.shape[1]).reshape(self.x.shape[1], 1)\n",
    "        steps, errors = [], []\n",
    "        step = 0\n",
    "        for _ in range(max_steps):\n",
    "            dT_a = -2*self.x.T@(self.Y.to_numpy() -self.predict(self.x).to_numpy())/m\n",
    "            self.a -= alpha*dT_a\n",
    "            new_error = self.MSE(self.x, self.Y)\n",
    "            step += 1\n",
    "            steps.append(step)\n",
    "            errors.append(new_error)\n",
    "            if new_error < epsylon:\n",
    "                break\n",
    "        return steps, errors"
   ]
  },
  {
   "cell_type": "code",
   "execution_count": 6,
   "id": "e31e756f",
   "metadata": {
    "id": "e31e756f"
   },
   "outputs": [],
   "source": [
    "def train_test_split_(x, y, test_size, random_seed = 0):\n",
    "    np.random.seed(random_seed)\n",
    "    num_train = int(len(x)*(1 - test_size))\n",
    "    dataset = pd.concat([x, y], axis = 1)\n",
    "    indices = np.array(dataset.index)\n",
    "    np.random.shuffle(indices)\n",
    "\n",
    "    train_dataset = pd.DataFrame([dataset.loc[i, :] for i in indices[:num_train]])\n",
    "    test_dataset = pd.DataFrame([dataset.loc[i, :] for i in indices[num_train:]])\n",
    "    x_train = train_dataset.iloc[:, :-1]\n",
    "    y_train = pd.DataFrame(train_dataset.iloc[:, -1].to_numpy().reshape(x_train.shape[0],1))\n",
    "    x_test = test_dataset.iloc[:, :-1]\n",
    "    y_test = pd.DataFrame(test_dataset.iloc[:, -1].to_numpy().reshape(x_test.shape[0],1))\n",
    "    return x_train, y_train, x_test, y_test"
   ]
  },
  {
   "cell_type": "code",
   "execution_count": 7,
   "id": "9e55104e",
   "metadata": {
    "id": "9e55104e"
   },
   "outputs": [
    {
     "data": {
      "text/html": [
       "<div>\n",
       "<style scoped>\n",
       "    .dataframe tbody tr th:only-of-type {\n",
       "        vertical-align: middle;\n",
       "    }\n",
       "\n",
       "    .dataframe tbody tr th {\n",
       "        vertical-align: top;\n",
       "    }\n",
       "\n",
       "    .dataframe thead th {\n",
       "        text-align: right;\n",
       "    }\n",
       "</style>\n",
       "<table border=\"1\" class=\"dataframe\">\n",
       "  <thead>\n",
       "    <tr style=\"text-align: right;\">\n",
       "      <th></th>\n",
       "      <th>Column1</th>\n",
       "      <th>Column2</th>\n",
       "      <th>Column3</th>\n",
       "      <th>Column4</th>\n",
       "      <th>Column5</th>\n",
       "      <th>Column6</th>\n",
       "      <th>Column7</th>\n",
       "      <th>Column8</th>\n",
       "      <th>Column9</th>\n",
       "      <th>Column10</th>\n",
       "      <th>...</th>\n",
       "      <th>Column95</th>\n",
       "      <th>Column96</th>\n",
       "      <th>Column97</th>\n",
       "      <th>Column98</th>\n",
       "      <th>Column99</th>\n",
       "      <th>Column100</th>\n",
       "      <th>Column101</th>\n",
       "      <th>Column102</th>\n",
       "      <th>Column103</th>\n",
       "      <th>Column104</th>\n",
       "    </tr>\n",
       "  </thead>\n",
       "  <tbody>\n",
       "    <tr>\n",
       "      <th>139</th>\n",
       "      <td>0.006049</td>\n",
       "      <td>0.000</td>\n",
       "      <td>0.785557</td>\n",
       "      <td>0.0</td>\n",
       "      <td>0.491770</td>\n",
       "      <td>0.496264</td>\n",
       "      <td>0.978373</td>\n",
       "      <td>0.049023</td>\n",
       "      <td>0.130435</td>\n",
       "      <td>0.477099</td>\n",
       "      <td>...</td>\n",
       "      <td>0.227624</td>\n",
       "      <td>0.436495</td>\n",
       "      <td>0.477099</td>\n",
       "      <td>0.220250</td>\n",
       "      <td>0.837030</td>\n",
       "      <td>0.914894</td>\n",
       "      <td>0.422356</td>\n",
       "      <td>1.000000</td>\n",
       "      <td>0.461645</td>\n",
       "      <td>0.213116</td>\n",
       "    </tr>\n",
       "    <tr>\n",
       "      <th>67</th>\n",
       "      <td>0.000580</td>\n",
       "      <td>0.125</td>\n",
       "      <td>0.205645</td>\n",
       "      <td>0.0</td>\n",
       "      <td>0.049383</td>\n",
       "      <td>0.443955</td>\n",
       "      <td>0.190525</td>\n",
       "      <td>0.488174</td>\n",
       "      <td>0.130435</td>\n",
       "      <td>0.301527</td>\n",
       "      <td>...</td>\n",
       "      <td>0.090918</td>\n",
       "      <td>0.202087</td>\n",
       "      <td>0.301002</td>\n",
       "      <td>0.053000</td>\n",
       "      <td>0.449185</td>\n",
       "      <td>0.669047</td>\n",
       "      <td>0.117805</td>\n",
       "      <td>0.996523</td>\n",
       "      <td>0.175467</td>\n",
       "      <td>0.030896</td>\n",
       "    </tr>\n",
       "    <tr>\n",
       "      <th>3</th>\n",
       "      <td>0.000293</td>\n",
       "      <td>0.000</td>\n",
       "      <td>0.063050</td>\n",
       "      <td>0.0</td>\n",
       "      <td>0.150206</td>\n",
       "      <td>0.658555</td>\n",
       "      <td>0.441813</td>\n",
       "      <td>0.448545</td>\n",
       "      <td>0.086957</td>\n",
       "      <td>0.066794</td>\n",
       "      <td>...</td>\n",
       "      <td>0.004461</td>\n",
       "      <td>0.043345</td>\n",
       "      <td>0.066412</td>\n",
       "      <td>0.002230</td>\n",
       "      <td>0.421118</td>\n",
       "      <td>0.645222</td>\n",
       "      <td>0.021667</td>\n",
       "      <td>0.988585</td>\n",
       "      <td>0.033197</td>\n",
       "      <td>0.001115</td>\n",
       "    </tr>\n",
       "    <tr>\n",
       "      <th>342</th>\n",
       "      <td>0.000210</td>\n",
       "      <td>0.000</td>\n",
       "      <td>0.052419</td>\n",
       "      <td>0.0</td>\n",
       "      <td>0.273663</td>\n",
       "      <td>0.570799</td>\n",
       "      <td>0.584964</td>\n",
       "      <td>0.467159</td>\n",
       "      <td>0.000000</td>\n",
       "      <td>0.448473</td>\n",
       "      <td>...</td>\n",
       "      <td>0.201128</td>\n",
       "      <td>0.157443</td>\n",
       "      <td>0.440625</td>\n",
       "      <td>0.085636</td>\n",
       "      <td>0.123246</td>\n",
       "      <td>0.344920</td>\n",
       "      <td>0.067035</td>\n",
       "      <td>0.965307</td>\n",
       "      <td>0.187608</td>\n",
       "      <td>0.036462</td>\n",
       "    </tr>\n",
       "    <tr>\n",
       "      <th>56</th>\n",
       "      <td>0.000160</td>\n",
       "      <td>0.850</td>\n",
       "      <td>0.010264</td>\n",
       "      <td>0.0</td>\n",
       "      <td>0.051440</td>\n",
       "      <td>0.540717</td>\n",
       "      <td>0.337796</td>\n",
       "      <td>0.732752</td>\n",
       "      <td>0.043478</td>\n",
       "      <td>0.240458</td>\n",
       "      <td>...</td>\n",
       "      <td>0.057820</td>\n",
       "      <td>0.120229</td>\n",
       "      <td>0.240458</td>\n",
       "      <td>0.026806</td>\n",
       "      <td>0.250000</td>\n",
       "      <td>0.500000</td>\n",
       "      <td>0.055740</td>\n",
       "      <td>1.000000</td>\n",
       "      <td>0.111479</td>\n",
       "      <td>0.012428</td>\n",
       "    </tr>\n",
       "    <tr>\n",
       "      <th>...</th>\n",
       "      <td>...</td>\n",
       "      <td>...</td>\n",
       "      <td>...</td>\n",
       "      <td>...</td>\n",
       "      <td>...</td>\n",
       "      <td>...</td>\n",
       "      <td>...</td>\n",
       "      <td>...</td>\n",
       "      <td>...</td>\n",
       "      <td>...</td>\n",
       "      <td>...</td>\n",
       "      <td>...</td>\n",
       "      <td>...</td>\n",
       "      <td>...</td>\n",
       "      <td>...</td>\n",
       "      <td>...</td>\n",
       "      <td>...</td>\n",
       "      <td>...</td>\n",
       "      <td>...</td>\n",
       "      <td>...</td>\n",
       "      <td>...</td>\n",
       "    </tr>\n",
       "    <tr>\n",
       "      <th>98</th>\n",
       "      <td>0.000849</td>\n",
       "      <td>0.000</td>\n",
       "      <td>0.089076</td>\n",
       "      <td>0.0</td>\n",
       "      <td>0.123457</td>\n",
       "      <td>0.816057</td>\n",
       "      <td>0.350154</td>\n",
       "      <td>0.215115</td>\n",
       "      <td>0.043478</td>\n",
       "      <td>0.169847</td>\n",
       "      <td>...</td>\n",
       "      <td>0.028848</td>\n",
       "      <td>0.097572</td>\n",
       "      <td>0.168404</td>\n",
       "      <td>0.008624</td>\n",
       "      <td>0.330014</td>\n",
       "      <td>0.569586</td>\n",
       "      <td>0.029167</td>\n",
       "      <td>0.983077</td>\n",
       "      <td>0.050341</td>\n",
       "      <td>0.002578</td>\n",
       "    </tr>\n",
       "    <tr>\n",
       "      <th>476</th>\n",
       "      <td>0.054682</td>\n",
       "      <td>0.000</td>\n",
       "      <td>0.646628</td>\n",
       "      <td>0.0</td>\n",
       "      <td>0.471193</td>\n",
       "      <td>0.560069</td>\n",
       "      <td>0.934089</td>\n",
       "      <td>0.106912</td>\n",
       "      <td>1.000000</td>\n",
       "      <td>0.914122</td>\n",
       "      <td>...</td>\n",
       "      <td>0.835619</td>\n",
       "      <td>0.739077</td>\n",
       "      <td>0.912532</td>\n",
       "      <td>0.427549</td>\n",
       "      <td>0.653689</td>\n",
       "      <td>0.807104</td>\n",
       "      <td>0.378153</td>\n",
       "      <td>0.996523</td>\n",
       "      <td>0.466901</td>\n",
       "      <td>0.218758</td>\n",
       "    </tr>\n",
       "    <tr>\n",
       "      <th>322</th>\n",
       "      <td>0.003876</td>\n",
       "      <td>0.000</td>\n",
       "      <td>0.253666</td>\n",
       "      <td>0.0</td>\n",
       "      <td>0.222222</td>\n",
       "      <td>0.475187</td>\n",
       "      <td>0.484037</td>\n",
       "      <td>0.326592</td>\n",
       "      <td>0.173913</td>\n",
       "      <td>0.190840</td>\n",
       "      <td>...</td>\n",
       "      <td>0.036420</td>\n",
       "      <td>0.142115</td>\n",
       "      <td>0.190840</td>\n",
       "      <td>0.031438</td>\n",
       "      <td>0.554550</td>\n",
       "      <td>0.744681</td>\n",
       "      <td>0.122675</td>\n",
       "      <td>1.000000</td>\n",
       "      <td>0.164735</td>\n",
       "      <td>0.027138</td>\n",
       "    </tr>\n",
       "    <tr>\n",
       "      <th>382</th>\n",
       "      <td>0.103189</td>\n",
       "      <td>0.000</td>\n",
       "      <td>0.646628</td>\n",
       "      <td>0.0</td>\n",
       "      <td>0.648148</td>\n",
       "      <td>0.378425</td>\n",
       "      <td>1.000000</td>\n",
       "      <td>0.040993</td>\n",
       "      <td>1.000000</td>\n",
       "      <td>0.914122</td>\n",
       "      <td>...</td>\n",
       "      <td>0.835619</td>\n",
       "      <td>0.739077</td>\n",
       "      <td>0.914122</td>\n",
       "      <td>0.551652</td>\n",
       "      <td>0.653689</td>\n",
       "      <td>0.808511</td>\n",
       "      <td>0.487917</td>\n",
       "      <td>1.000000</td>\n",
       "      <td>0.603477</td>\n",
       "      <td>0.364184</td>\n",
       "    </tr>\n",
       "    <tr>\n",
       "      <th>365</th>\n",
       "      <td>0.051136</td>\n",
       "      <td>0.000</td>\n",
       "      <td>0.646628</td>\n",
       "      <td>0.0</td>\n",
       "      <td>0.685185</td>\n",
       "      <td>0.000000</td>\n",
       "      <td>0.875386</td>\n",
       "      <td>0.043976</td>\n",
       "      <td>1.000000</td>\n",
       "      <td>0.914122</td>\n",
       "      <td>...</td>\n",
       "      <td>0.835619</td>\n",
       "      <td>0.739077</td>\n",
       "      <td>0.816851</td>\n",
       "      <td>0.135958</td>\n",
       "      <td>0.653689</td>\n",
       "      <td>0.722477</td>\n",
       "      <td>0.120250</td>\n",
       "      <td>0.798503</td>\n",
       "      <td>0.132904</td>\n",
       "      <td>0.022121</td>\n",
       "    </tr>\n",
       "  </tbody>\n",
       "</table>\n",
       "<p>102 rows × 104 columns</p>\n",
       "</div>"
      ],
      "text/plain": [
       "      Column1  Column2   Column3  Column4   Column5   Column6   Column7  \\\n",
       "139  0.006049    0.000  0.785557      0.0  0.491770  0.496264  0.978373   \n",
       "67   0.000580    0.125  0.205645      0.0  0.049383  0.443955  0.190525   \n",
       "3    0.000293    0.000  0.063050      0.0  0.150206  0.658555  0.441813   \n",
       "342  0.000210    0.000  0.052419      0.0  0.273663  0.570799  0.584964   \n",
       "56   0.000160    0.850  0.010264      0.0  0.051440  0.540717  0.337796   \n",
       "..        ...      ...       ...      ...       ...       ...       ...   \n",
       "98   0.000849    0.000  0.089076      0.0  0.123457  0.816057  0.350154   \n",
       "476  0.054682    0.000  0.646628      0.0  0.471193  0.560069  0.934089   \n",
       "322  0.003876    0.000  0.253666      0.0  0.222222  0.475187  0.484037   \n",
       "382  0.103189    0.000  0.646628      0.0  0.648148  0.378425  1.000000   \n",
       "365  0.051136    0.000  0.646628      0.0  0.685185  0.000000  0.875386   \n",
       "\n",
       "      Column8   Column9  Column10  ...  Column95  Column96  Column97  \\\n",
       "139  0.049023  0.130435  0.477099  ...  0.227624  0.436495  0.477099   \n",
       "67   0.488174  0.130435  0.301527  ...  0.090918  0.202087  0.301002   \n",
       "3    0.448545  0.086957  0.066794  ...  0.004461  0.043345  0.066412   \n",
       "342  0.467159  0.000000  0.448473  ...  0.201128  0.157443  0.440625   \n",
       "56   0.732752  0.043478  0.240458  ...  0.057820  0.120229  0.240458   \n",
       "..        ...       ...       ...  ...       ...       ...       ...   \n",
       "98   0.215115  0.043478  0.169847  ...  0.028848  0.097572  0.168404   \n",
       "476  0.106912  1.000000  0.914122  ...  0.835619  0.739077  0.912532   \n",
       "322  0.326592  0.173913  0.190840  ...  0.036420  0.142115  0.190840   \n",
       "382  0.040993  1.000000  0.914122  ...  0.835619  0.739077  0.914122   \n",
       "365  0.043976  1.000000  0.914122  ...  0.835619  0.739077  0.816851   \n",
       "\n",
       "     Column98  Column99  Column100  Column101  Column102  Column103  Column104  \n",
       "139  0.220250  0.837030   0.914894   0.422356   1.000000   0.461645   0.213116  \n",
       "67   0.053000  0.449185   0.669047   0.117805   0.996523   0.175467   0.030896  \n",
       "3    0.002230  0.421118   0.645222   0.021667   0.988585   0.033197   0.001115  \n",
       "342  0.085636  0.123246   0.344920   0.067035   0.965307   0.187608   0.036462  \n",
       "56   0.026806  0.250000   0.500000   0.055740   1.000000   0.111479   0.012428  \n",
       "..        ...       ...        ...        ...        ...        ...        ...  \n",
       "98   0.008624  0.330014   0.569586   0.029167   0.983077   0.050341   0.002578  \n",
       "476  0.427549  0.653689   0.807104   0.378153   0.996523   0.466901   0.218758  \n",
       "322  0.031438  0.554550   0.744681   0.122675   1.000000   0.164735   0.027138  \n",
       "382  0.551652  0.653689   0.808511   0.487917   1.000000   0.603477   0.364184  \n",
       "365  0.135958  0.653689   0.722477   0.120250   0.798503   0.132904   0.022121  \n",
       "\n",
       "[102 rows x 104 columns]"
      ]
     },
     "metadata": {},
     "output_type": "display_data"
    }
   ],
   "source": [
    "dataset = data.copy()\n",
    "Y = dataset['Y']\n",
    "x = dataset.drop('Y', axis = 1)\n",
    "x_train, y_train, x_test, y_test = train_test_split_(x, Y, 0.2, 123)\n",
    "display(x_test)"
   ]
  },
  {
   "cell_type": "code",
   "execution_count": 6,
   "id": "52f1b0fd",
   "metadata": {
    "id": "52f1b0fd"
   },
   "outputs": [],
   "source": [
    "regr = MultipleRegression()\n",
    "steps, errors = regr.fit(x_train, y_train, intercept = True, alpha = 0.01, epsylon = 0.00001, max_steps = 10000)"
   ]
  },
  {
   "cell_type": "code",
   "execution_count": 7,
   "id": "88cf223e",
   "metadata": {
    "id": "88cf223e"
   },
   "outputs": [
    {
     "data": {
      "text/html": [
       "<div>\n",
       "<style scoped>\n",
       "    .dataframe tbody tr th:only-of-type {\n",
       "        vertical-align: middle;\n",
       "    }\n",
       "\n",
       "    .dataframe tbody tr th {\n",
       "        vertical-align: top;\n",
       "    }\n",
       "\n",
       "    .dataframe thead th {\n",
       "        text-align: right;\n",
       "    }\n",
       "</style>\n",
       "<table border=\"1\" class=\"dataframe\">\n",
       "  <thead>\n",
       "    <tr style=\"text-align: right;\">\n",
       "      <th></th>\n",
       "      <th>0</th>\n",
       "    </tr>\n",
       "  </thead>\n",
       "  <tbody>\n",
       "    <tr>\n",
       "      <th>intercept</th>\n",
       "      <td>12.587005</td>\n",
       "    </tr>\n",
       "    <tr>\n",
       "      <th>Column1</th>\n",
       "      <td>-1.740037</td>\n",
       "    </tr>\n",
       "    <tr>\n",
       "      <th>Column2</th>\n",
       "      <td>-0.177503</td>\n",
       "    </tr>\n",
       "    <tr>\n",
       "      <th>Column3</th>\n",
       "      <td>1.896160</td>\n",
       "    </tr>\n",
       "    <tr>\n",
       "      <th>Column4</th>\n",
       "      <td>-0.007299</td>\n",
       "    </tr>\n",
       "    <tr>\n",
       "      <th>...</th>\n",
       "      <td>...</td>\n",
       "    </tr>\n",
       "    <tr>\n",
       "      <th>Column100</th>\n",
       "      <td>-2.954749</td>\n",
       "    </tr>\n",
       "    <tr>\n",
       "      <th>Column101</th>\n",
       "      <td>-1.429141</td>\n",
       "    </tr>\n",
       "    <tr>\n",
       "      <th>Column102</th>\n",
       "      <td>2.103476</td>\n",
       "    </tr>\n",
       "    <tr>\n",
       "      <th>Column103</th>\n",
       "      <td>-7.851093</td>\n",
       "    </tr>\n",
       "    <tr>\n",
       "      <th>Column104</th>\n",
       "      <td>7.464858</td>\n",
       "    </tr>\n",
       "  </tbody>\n",
       "</table>\n",
       "<p>105 rows × 1 columns</p>\n",
       "</div>"
      ],
      "text/plain": [
       "                   0\n",
       "intercept  12.587005\n",
       "Column1    -1.740037\n",
       "Column2    -0.177503\n",
       "Column3     1.896160\n",
       "Column4    -0.007299\n",
       "...              ...\n",
       "Column100  -2.954749\n",
       "Column101  -1.429141\n",
       "Column102   2.103476\n",
       "Column103  -7.851093\n",
       "Column104   7.464858\n",
       "\n",
       "[105 rows x 1 columns]"
      ]
     },
     "metadata": {},
     "output_type": "display_data"
    },
    {
     "data": {
      "text/plain": [
       "[<matplotlib.lines.Line2D at 0x1a2080ebfa0>]"
      ]
     },
     "execution_count": 7,
     "metadata": {},
     "output_type": "execute_result"
    },
    {
     "data": {
      "image/png": "[encoded data removed]",
      "text/plain": [
       "<Figure size 640x480 with 1 Axes>"
      ]
     },
     "metadata": {},
     "output_type": "display_data"
    }
   ],
   "source": [
    "display(regr.coefs())\n",
    "plt.plot(steps, errors)"
   ]
  },
  {
   "cell_type": "code",
   "execution_count": 8,
   "id": "729bf6e9",
   "metadata": {
    "id": "729bf6e9"
   },
   "outputs": [
    {
     "data": {
      "text/plain": [
       "11.450031182810202"
      ]
     },
     "execution_count": 8,
     "metadata": {},
     "output_type": "execute_result"
    }
   ],
   "source": [
    "x_i = x_train.copy()\n",
    "x_i.insert(0, \"intercept\", np.ones((x_i.shape[0],1)), allow_duplicates=True)\n",
    "regr.MSE(x_i, y_train)"
   ]
  },
  {
   "cell_type": "code",
   "execution_count": 9,
   "id": "1d3f68d1",
   "metadata": {
    "id": "1d3f68d1"
   },
   "outputs": [
    {
     "data": {
      "text/plain": [
       "19.88508933128714"
      ]
     },
     "execution_count": 9,
     "metadata": {},
     "output_type": "execute_result"
    }
   ],
   "source": [
    "x_i = x_test.copy()\n",
    "x_i.insert(0, \"intercept\", np.ones((x_i.shape[0],1)), allow_duplicates=True)\n",
    "regr.MSE(x_i, y_test)"
   ]
  },
  {
   "cell_type": "markdown",
   "id": "9b313c14",
   "metadata": {
    "id": "9b313c14"
   },
   "source": [
    "<b>Задание.</b>\n",
    "Метрика на тестовой выборке в два раза хуже, чем на обучающей. Это - переобучение.\n",
    "\n",
    "Необходимо модифицировать класс MultipleRegression, добавив возможность регуляризации L1, L2 и ElasticNet. Подобрать параметры регуляризации, чтобы побороть переобучение.\n",
    "\n",
    "Бонусное задание: реализовать класс регуляризации для логистической регрессии и улучшить качество прогноза для класса Loan_Status (из предыдущей работы)."
   ]
  },
  {
   "attachments": {
    "image.png": {
     "image/png": "[encoded data removed]"
    }
   },
   "cell_type": "markdown",
   "id": "cddd7ec2",
   "metadata": {},
   "source": [
    "![image.png](attachment:image.png)"
   ]
  },
  {
   "attachments": {
    "image.png": {
     "image/png": "[encoded data removed]"
    }
   },
   "cell_type": "markdown",
   "id": "a33b25c9",
   "metadata": {},
   "source": [
    "![image.png](attachment:image.png)"
   ]
  },
  {
   "cell_type": "code",
   "execution_count": 42,
   "id": "e5d1a7ad",
   "metadata": {},
   "outputs": [],
   "source": [
    "class MultipleRegression(object):\n",
    "    def __init__(self):\n",
    "        self.a = np.zeros(1)\n",
    "        self.intercept = True\n",
    "\n",
    "    def predict(self, x):\n",
    "        return x @ self.a\n",
    "\n",
    "    def MSE(self, x, Y):\n",
    "        return (((Y.to_numpy() - self.predict(x).to_numpy()).T@(Y.to_numpy() - self.predict(x).to_numpy()))/x.shape[0])[0][0]\n",
    "\n",
    "    def MAE(self, x, Y):\n",
    "        return abs((Y.to_numpy() - self.predict(x).to_numpy())).mean()\n",
    "\n",
    "    def MAPE(self, x, Y):\n",
    "        return abs((Y.to_numpy() - self.predict(x).to_numpy())/Y).mean().to_real()\n",
    "\n",
    "    def coefs(self):\n",
    "        return self.a\n",
    "    \n",
    "\n",
    "    def fit(self, x, Y, alpha=0.001, epsylon=0.01, max_steps=5000, intercept=True, regularization=None, l1 = None, l2 = None):\n",
    "        self.intercept = intercept\n",
    "        self.x = x.copy()\n",
    "        self.Y = Y.copy()\n",
    "        if intercept:\n",
    "            self.x.insert(0, \"intercept\", np.ones((self.x.shape[0], 1)), allow_duplicates=True)\n",
    "        \n",
    "        m = len(self.x)\n",
    "        self.a = np.zeros(self.x.shape[1]).reshape(self.x.shape[1], 1)\n",
    "        steps, errors = [], []\n",
    "        step = 0\n",
    "\n",
    "        for _ in range(max_steps):\n",
    "            dT_a = -2*self.x.T@(self.Y.to_numpy() - self.predict(self.x).to_numpy())/m\n",
    "            \n",
    "            if regularization == 'L1':\n",
    "                dT_a += -2*self.x.T@(self.Y.to_numpy() - self.predict(self.x).to_numpy())/m + (l1 * np.sign(self.a))\n",
    "            elif regularization == 'L2':\n",
    "                dT_a += -2*self.x.T@(self.Y.to_numpy() - self.predict(self.x).to_numpy())/m + (2 * l2 * self.a)\n",
    "            elif regularization == 'ElasticNet':\n",
    "                dT_a += -2*self.x.T@(self.Y.to_numpy() - self.predict(self.x).to_numpy())/m + (2 * l2 * self.a) + (l1 * np.sign(self.a))\n",
    "            \n",
    "            self.a -= alpha*dT_a\n",
    "            new_error = self.MSE(self.x, self.Y)\n",
    "            step += 1\n",
    "            steps.append(step)\n",
    "            errors.append(new_error)\n",
    "            if new_error < epsylon:\n",
    "                break\n",
    "        \n",
    "        return steps, errors\n",
    "\n",
    "\n"
   ]
  },
  {
   "cell_type": "markdown",
   "id": "bbf895b7",
   "metadata": {},
   "source": [
    "# L1"
   ]
  },
  {
   "cell_type": "code",
   "execution_count": 63,
   "id": "75e37f15",
   "metadata": {},
   "outputs": [],
   "source": [
    "regr_1 = MultipleRegression()\n",
    "steps, errors = regr_1.fit(x_train, y_train, alpha = 0.01, epsylon = 0.00001, max_steps = 10000, intercept = True, \n",
    "                        regularization = 'L1', l1 = 0.01)"
   ]
  },
  {
   "cell_type": "code",
   "execution_count": 64,
   "id": "86eafdee",
   "metadata": {},
   "outputs": [
    {
     "data": {
      "text/html": [
       "<div>\n",
       "<style scoped>\n",
       "    .dataframe tbody tr th:only-of-type {\n",
       "        vertical-align: middle;\n",
       "    }\n",
       "\n",
       "    .dataframe tbody tr th {\n",
       "        vertical-align: top;\n",
       "    }\n",
       "\n",
       "    .dataframe thead th {\n",
       "        text-align: right;\n",
       "    }\n",
       "</style>\n",
       "<table border=\"1\" class=\"dataframe\">\n",
       "  <thead>\n",
       "    <tr style=\"text-align: right;\">\n",
       "      <th></th>\n",
       "      <th>0</th>\n",
       "    </tr>\n",
       "  </thead>\n",
       "  <tbody>\n",
       "    <tr>\n",
       "      <th>intercept</th>\n",
       "      <td>12.249298</td>\n",
       "    </tr>\n",
       "    <tr>\n",
       "      <th>Column1</th>\n",
       "      <td>-2.065529</td>\n",
       "    </tr>\n",
       "    <tr>\n",
       "      <th>Column2</th>\n",
       "      <td>-1.472350</td>\n",
       "    </tr>\n",
       "    <tr>\n",
       "      <th>Column3</th>\n",
       "      <td>1.613571</td>\n",
       "    </tr>\n",
       "    <tr>\n",
       "      <th>Column4</th>\n",
       "      <td>0.144913</td>\n",
       "    </tr>\n",
       "    <tr>\n",
       "      <th>...</th>\n",
       "      <td>...</td>\n",
       "    </tr>\n",
       "    <tr>\n",
       "      <th>Column100</th>\n",
       "      <td>-2.859362</td>\n",
       "    </tr>\n",
       "    <tr>\n",
       "      <th>Column101</th>\n",
       "      <td>-0.306747</td>\n",
       "    </tr>\n",
       "    <tr>\n",
       "      <th>Column102</th>\n",
       "      <td>0.775944</td>\n",
       "    </tr>\n",
       "    <tr>\n",
       "      <th>Column103</th>\n",
       "      <td>-8.074753</td>\n",
       "    </tr>\n",
       "    <tr>\n",
       "      <th>Column104</th>\n",
       "      <td>12.989621</td>\n",
       "    </tr>\n",
       "  </tbody>\n",
       "</table>\n",
       "<p>105 rows × 1 columns</p>\n",
       "</div>"
      ],
      "text/plain": [
       "                   0\n",
       "intercept  12.249298\n",
       "Column1    -2.065529\n",
       "Column2    -1.472350\n",
       "Column3     1.613571\n",
       "Column4     0.144913\n",
       "...              ...\n",
       "Column100  -2.859362\n",
       "Column101  -0.306747\n",
       "Column102   0.775944\n",
       "Column103  -8.074753\n",
       "Column104  12.989621\n",
       "\n",
       "[105 rows x 1 columns]"
      ]
     },
     "metadata": {},
     "output_type": "display_data"
    },
    {
     "data": {
      "text/plain": [
       "[<matplotlib.lines.Line2D at 0x2234d0b6e60>]"
      ]
     },
     "execution_count": 64,
     "metadata": {},
     "output_type": "execute_result"
    },
    {
     "data": {
      "image/png": "[encoded data removed]",
      "text/plain": [
       "<Figure size 640x480 with 1 Axes>"
      ]
     },
     "metadata": {},
     "output_type": "display_data"
    }
   ],
   "source": [
    "display(regr_1.coefs())\n",
    "plt.plot(steps, errors)"
   ]
  },
  {
   "cell_type": "code",
   "execution_count": 84,
   "id": "67ae9838",
   "metadata": {},
   "outputs": [
    {
     "data": {
      "text/plain": [
       "9.783921473436283"
      ]
     },
     "execution_count": 84,
     "metadata": {},
     "output_type": "execute_result"
    }
   ],
   "source": [
    "x_i = x_train.copy()\n",
    "x_i.insert(0, \"intercept\", np.ones((x_i.shape[0],1)), allow_duplicates=True)\n",
    "regr_1.MSE(x_i, y_train)"
   ]
  },
  {
   "cell_type": "code",
   "execution_count": 85,
   "id": "aec3a430",
   "metadata": {},
   "outputs": [
    {
     "data": {
      "text/plain": [
       "17.98024291666094"
      ]
     },
     "execution_count": 85,
     "metadata": {},
     "output_type": "execute_result"
    }
   ],
   "source": [
    "x_i = x_test.copy()\n",
    "x_i.insert(0, \"intercept\", np.ones((x_i.shape[0],1)), allow_duplicates=True)\n",
    "regr_1.MSE(x_i, y_test)"
   ]
  },
  {
   "cell_type": "markdown",
   "id": "f6bd3717",
   "metadata": {},
   "source": [
    "# L2"
   ]
  },
  {
   "cell_type": "code",
   "execution_count": 50,
   "id": "e65260ad",
   "metadata": {},
   "outputs": [],
   "source": [
    "regr_2 = MultipleRegression()\n",
    "steps, errors = regr_2.fit(x_train, y_train, alpha = 0.01, epsylon = 0.00001, max_steps = 10000, intercept = True, \n",
    "                        regularization = 'L2', l2 = 0.01)"
   ]
  },
  {
   "cell_type": "code",
   "execution_count": 51,
   "id": "081f7208",
   "metadata": {},
   "outputs": [
    {
     "data": {
      "text/html": [
       "<div>\n",
       "<style scoped>\n",
       "    .dataframe tbody tr th:only-of-type {\n",
       "        vertical-align: middle;\n",
       "    }\n",
       "\n",
       "    .dataframe tbody tr th {\n",
       "        vertical-align: top;\n",
       "    }\n",
       "\n",
       "    .dataframe thead th {\n",
       "        text-align: right;\n",
       "    }\n",
       "</style>\n",
       "<table border=\"1\" class=\"dataframe\">\n",
       "  <thead>\n",
       "    <tr style=\"text-align: right;\">\n",
       "      <th></th>\n",
       "      <th>0</th>\n",
       "    </tr>\n",
       "  </thead>\n",
       "  <tbody>\n",
       "    <tr>\n",
       "      <th>intercept</th>\n",
       "      <td>11.414231</td>\n",
       "    </tr>\n",
       "    <tr>\n",
       "      <th>Column1</th>\n",
       "      <td>-1.302416</td>\n",
       "    </tr>\n",
       "    <tr>\n",
       "      <th>Column2</th>\n",
       "      <td>0.220919</td>\n",
       "    </tr>\n",
       "    <tr>\n",
       "      <th>Column3</th>\n",
       "      <td>1.725632</td>\n",
       "    </tr>\n",
       "    <tr>\n",
       "      <th>Column4</th>\n",
       "      <td>0.260060</td>\n",
       "    </tr>\n",
       "    <tr>\n",
       "      <th>...</th>\n",
       "      <td>...</td>\n",
       "    </tr>\n",
       "    <tr>\n",
       "      <th>Column100</th>\n",
       "      <td>-2.780044</td>\n",
       "    </tr>\n",
       "    <tr>\n",
       "      <th>Column101</th>\n",
       "      <td>-1.528743</td>\n",
       "    </tr>\n",
       "    <tr>\n",
       "      <th>Column102</th>\n",
       "      <td>2.779780</td>\n",
       "    </tr>\n",
       "    <tr>\n",
       "      <th>Column103</th>\n",
       "      <td>-6.798749</td>\n",
       "    </tr>\n",
       "    <tr>\n",
       "      <th>Column104</th>\n",
       "      <td>5.521831</td>\n",
       "    </tr>\n",
       "  </tbody>\n",
       "</table>\n",
       "<p>105 rows × 1 columns</p>\n",
       "</div>"
      ],
      "text/plain": [
       "                   0\n",
       "intercept  11.414231\n",
       "Column1    -1.302416\n",
       "Column2     0.220919\n",
       "Column3     1.725632\n",
       "Column4     0.260060\n",
       "...              ...\n",
       "Column100  -2.780044\n",
       "Column101  -1.528743\n",
       "Column102   2.779780\n",
       "Column103  -6.798749\n",
       "Column104   5.521831\n",
       "\n",
       "[105 rows x 1 columns]"
      ]
     },
     "metadata": {},
     "output_type": "display_data"
    },
    {
     "data": {
      "text/plain": [
       "[<matplotlib.lines.Line2D at 0x2234cea1870>]"
      ]
     },
     "execution_count": 51,
     "metadata": {},
     "output_type": "execute_result"
    },
    {
     "data": {
      "image/png": "[encoded data removed]",
      "text/plain": [
       "<Figure size 640x480 with 1 Axes>"
      ]
     },
     "metadata": {},
     "output_type": "display_data"
    }
   ],
   "source": [
    "display(regr_2.coefs())\n",
    "plt.plot(steps, errors)"
   ]
  },
  {
   "cell_type": "code",
   "execution_count": 86,
   "id": "90168075",
   "metadata": {},
   "outputs": [
    {
     "data": {
      "text/plain": [
       "13.262497460698823"
      ]
     },
     "execution_count": 86,
     "metadata": {},
     "output_type": "execute_result"
    }
   ],
   "source": [
    "x_i = x_train.copy()\n",
    "x_i.insert(0, \"intercept\", np.ones((x_i.shape[0],1)), allow_duplicates=True)\n",
    "regr_2.MSE(x_i, y_train)"
   ]
  },
  {
   "cell_type": "code",
   "execution_count": 87,
   "id": "b01cf7d8",
   "metadata": {},
   "outputs": [
    {
     "data": {
      "text/plain": [
       "21.597173950601107"
      ]
     },
     "execution_count": 87,
     "metadata": {},
     "output_type": "execute_result"
    }
   ],
   "source": [
    "x_i = x_test.copy()\n",
    "x_i.insert(0, \"intercept\", np.ones((x_i.shape[0],1)), allow_duplicates=True)\n",
    "regr_2.MSE(x_i, y_test)"
   ]
  },
  {
   "cell_type": "markdown",
   "id": "cab8ed47",
   "metadata": {},
   "source": [
    "# ElasticNet"
   ]
  },
  {
   "cell_type": "code",
   "execution_count": 59,
   "id": "a16ef37b",
   "metadata": {},
   "outputs": [],
   "source": [
    "regr_3 = MultipleRegression()\n",
    "steps, errors = regr_3.fit(x_train, y_train, alpha = 0.01, epsylon = 0.00001, max_steps = 10000, intercept = True, \n",
    "                        regularization = 'ElasticNet', l1 = 0.1, l2 = 0.1)"
   ]
  },
  {
   "cell_type": "code",
   "execution_count": 60,
   "id": "c250ecf1",
   "metadata": {},
   "outputs": [
    {
     "data": {
      "text/html": [
       "<div>\n",
       "<style scoped>\n",
       "    .dataframe tbody tr th:only-of-type {\n",
       "        vertical-align: middle;\n",
       "    }\n",
       "\n",
       "    .dataframe tbody tr th {\n",
       "        vertical-align: top;\n",
       "    }\n",
       "\n",
       "    .dataframe thead th {\n",
       "        text-align: right;\n",
       "    }\n",
       "</style>\n",
       "<table border=\"1\" class=\"dataframe\">\n",
       "  <thead>\n",
       "    <tr style=\"text-align: right;\">\n",
       "      <th></th>\n",
       "      <th>0</th>\n",
       "    </tr>\n",
       "  </thead>\n",
       "  <tbody>\n",
       "    <tr>\n",
       "      <th>intercept</th>\n",
       "      <td>11.778103</td>\n",
       "    </tr>\n",
       "    <tr>\n",
       "      <th>Column1</th>\n",
       "      <td>-1.207554</td>\n",
       "    </tr>\n",
       "    <tr>\n",
       "      <th>Column2</th>\n",
       "      <td>0.037317</td>\n",
       "    </tr>\n",
       "    <tr>\n",
       "      <th>Column3</th>\n",
       "      <td>1.458545</td>\n",
       "    </tr>\n",
       "    <tr>\n",
       "      <th>Column4</th>\n",
       "      <td>0.180718</td>\n",
       "    </tr>\n",
       "    <tr>\n",
       "      <th>...</th>\n",
       "      <td>...</td>\n",
       "    </tr>\n",
       "    <tr>\n",
       "      <th>Column100</th>\n",
       "      <td>-2.628591</td>\n",
       "    </tr>\n",
       "    <tr>\n",
       "      <th>Column101</th>\n",
       "      <td>-1.409089</td>\n",
       "    </tr>\n",
       "    <tr>\n",
       "      <th>Column102</th>\n",
       "      <td>2.594444</td>\n",
       "    </tr>\n",
       "    <tr>\n",
       "      <th>Column103</th>\n",
       "      <td>-6.951878</td>\n",
       "    </tr>\n",
       "    <tr>\n",
       "      <th>Column104</th>\n",
       "      <td>4.969912</td>\n",
       "    </tr>\n",
       "  </tbody>\n",
       "</table>\n",
       "<p>105 rows × 1 columns</p>\n",
       "</div>"
      ],
      "text/plain": [
       "                   0\n",
       "intercept  11.778103\n",
       "Column1    -1.207554\n",
       "Column2     0.037317\n",
       "Column3     1.458545\n",
       "Column4     0.180718\n",
       "...              ...\n",
       "Column100  -2.628591\n",
       "Column101  -1.409089\n",
       "Column102   2.594444\n",
       "Column103  -6.951878\n",
       "Column104   4.969912\n",
       "\n",
       "[105 rows x 1 columns]"
      ]
     },
     "metadata": {},
     "output_type": "display_data"
    },
    {
     "data": {
      "text/plain": [
       "[<matplotlib.lines.Line2D at 0x2234936f5e0>]"
      ]
     },
     "execution_count": 60,
     "metadata": {},
     "output_type": "execute_result"
    },
    {
     "data": {
      "image/png": "[encoded data removed]",
      "text/plain": [
       "<Figure size 640x480 with 1 Axes>"
      ]
     },
     "metadata": {},
     "output_type": "display_data"
    }
   ],
   "source": [
    "display(regr_3.coefs())\n",
    "plt.plot(steps, errors)"
   ]
  },
  {
   "cell_type": "code",
   "execution_count": 88,
   "id": "906a1a72",
   "metadata": {},
   "outputs": [
    {
     "data": {
      "text/plain": [
       "13.262497460698823"
      ]
     },
     "execution_count": 88,
     "metadata": {},
     "output_type": "execute_result"
    }
   ],
   "source": [
    "x_i = x_train.copy()\n",
    "x_i.insert(0, \"intercept\", np.ones((x_i.shape[0],1)), allow_duplicates=True)\n",
    "regr_3.MSE(x_i, y_train)"
   ]
  },
  {
   "cell_type": "code",
   "execution_count": 89,
   "id": "a362d66f",
   "metadata": {},
   "outputs": [
    {
     "data": {
      "text/plain": [
       "21.597173950601107"
      ]
     },
     "execution_count": 89,
     "metadata": {},
     "output_type": "execute_result"
    }
   ],
   "source": [
    "x_i = x_test.copy()\n",
    "x_i.insert(0, \"intercept\", np.ones((x_i.shape[0],1)), allow_duplicates=True)\n",
    "regr_3.MSE(x_i, y_test)"
   ]
  },
  {
   "cell_type": "code",
   "execution_count": 90,
   "id": "22bd2152",
   "metadata": {},
   "outputs": [
    {
     "data": {
      "text/plain": [
       "(506, 105)"
      ]
     },
     "execution_count": 90,
     "metadata": {},
     "output_type": "execute_result"
    }
   ],
   "source": [
    "data.shape"
   ]
  },
  {
   "cell_type": "code",
   "execution_count": null,
   "id": "94717dfe",
   "metadata": {},
   "outputs": [],
   "source": []
  }
 ],
 "metadata": {
  "colab": {
   "provenance": []
  },
  "kernelspec": {
   "display_name": "Python 3 (ipykernel)",
   "language": "python",
   "name": "python3"
  },
  "language_info": {
   "codemirror_mode": {
    "name": "ipython",
    "version": 3
   },
   "file_extension": ".py",
   "mimetype": "text/x-python",
   "name": "python",
   "nbconvert_exporter": "python",
   "pygments_lexer": "ipython3",
   "version": "3.10.9"
  }
 },
 "nbformat": 4,
 "nbformat_minor": 5
}
